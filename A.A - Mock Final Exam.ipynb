{
 "cells": [
  {
   "cell_type": "markdown",
   "metadata": {},
   "source": [
    "# _Mock Final Exam_ #"
   ]
  },
  {
   "cell_type": "markdown",
   "metadata": {},
   "source": [
    "#### Prepared by: Andriana Aivazians\n",
    "###### Submission Date: May 18th, 2018"
   ]
  },
  {
   "cell_type": "markdown",
   "metadata": {},
   "source": [
    "___"
   ]
  },
  {
   "cell_type": "markdown",
   "metadata": {},
   "source": [
    "### Multiple Choice Questions ###"
   ]
  },
  {
   "cell_type": "markdown",
   "metadata": {},
   "source": [
    "Say you want to use the function inv(), which is in the linalg subpackage of scipy. You want to use the function like this-> my_inv([1,2], [3,4]). Which line below is the correct way to do this?\n",
    "\n",
    "A. import scipy as my_inv\n",
    "\n",
    "B. import scipy.linalg as my_inv\n",
    "\n",
    "C. import linalg from scipy as my_inv\n",
    "\n",
    "D. from scipy.linalg import inv as my_inv\n",
    "> Answer: D"
   ]
  },
  {
   "cell_type": "markdown",
   "metadata": {},
   "source": [
    "What is one reason why you do not want to put different type elements in a Numpy array?\n",
    "\n",
    "A. Numpy does not accept arrays with elements of different types\n",
    "\n",
    "B. You cannot use a '+' operator on the array if there aren't any ints in the array\n",
    "\n",
    "C. Operators act on each data type differently and some operators won't work at all\n",
    "\n",
    "D. Because I said so\n",
    "> Answer: C"
   ]
  },
  {
   "cell_type": "markdown",
   "metadata": {},
   "source": [
    "To find the standard deviation of a dataset by hand you need to, in order, find the:\n",
    "\n",
    "A. Variance then the number of elements\n",
    "\n",
    "B. Sum of all elements then square the sum\n",
    "\n",
    "C. Average of all elements then find the variance \n",
    "\n",
    "D. Sum of the universe and that's all\n",
    "> Answer: C"
   ]
  },
  {
   "cell_type": "markdown",
   "metadata": {},
   "source": [
    "Why do we need statistical inference?\n",
    "\n",
    "A. To draw probabilistic conclusions about what we might expect if we collected the same data again\n",
    "\n",
    "B. To draw actionable conclusions from data.\n",
    "\n",
    "C. To draw more general conclusions from relatively few data or observations.\n",
    "\n",
    "D. All of the above\n",
    "> Answer: D"
   ]
  },
  {
   "cell_type": "markdown",
   "metadata": {},
   "source": [
    "How would you expect the grades for a Data Science class's final to be distributed?\n",
    "\n",
    "A. Horrible\n",
    "\n",
    "B. Normal\n",
    "\n",
    "C. Uniform\n",
    "\n",
    "D. Exponential\n",
    "> Answer: B"
   ]
  },
  {
   "cell_type": "markdown",
   "metadata": {},
   "source": [
    "Which statement below is true.\n",
    "\n",
    "A. If you do hierarchical clustering multiple times on the same data you will get different results\n",
    "\n",
    "B. Dimension Reduction algorithms are examples of supervised learning\n",
    "\n",
    "C. K means is a Regression algorithm\n",
    "\n",
    "D. Classification algorithms are examples of supervised learning\n",
    "> Answer: D"
   ]
  },
  {
   "cell_type": "markdown",
   "metadata": {},
   "source": [
    "When performing hypothesis tests, your choice of the test statistic should:\n",
    "\n",
    "A. be something well known, like the mean or median\n",
    "\n",
    "B. be a parameter that can be estimated\n",
    "\n",
    "C. be pertinent to the question you are seeking to answer in your hypothesis test\n",
    "\n",
    "D. always be the mean\n",
    "> Answer: C"
   ]
  },
  {
   "cell_type": "markdown",
   "metadata": {},
   "source": [
    "Which is true about A/B Testing\n",
    "\n",
    "A. It can be used to tell if a strategy change gives a better result\n",
    "\n",
    "B. It can be used to measure the clickthrough rate of a website after a redesign only\n",
    "\n",
    "C. It can be used with only two options\n",
    "\n",
    "D. It has everything to do with the alphabet\n",
    "> Answer: A"
   ]
  },
  {
   "cell_type": "markdown",
   "metadata": {},
   "source": [
    "### True & False Questions"
   ]
  },
  {
   "cell_type": "markdown",
   "metadata": {},
   "source": [
    "1. Python uses one-based indexing\n",
    "> Answer: False\n",
    "2. There is a Python list named \"fam\" where len(fam) returns 6. The line fam[:4] returns a list of 3 elements.\n",
    "> Answer: False\n",
    "3. In a Box & Whisker Plot the edges of the box are at the values of the 80th and 20th percentile.\n",
    "> Answer: False\n",
    "4. In a dataset an outlier is any value that is 1.5X less than the 20th percentile or 1.5X greater than the 80th percentile\n",
    "> Answer: False\n",
    "5. In Python if you run the following lines the last line's output will be [\"a\", \"b\", \"z\"]\n",
    "\n",
    "    x=[\"a\", \"b\", \"c\"]\n",
    "    \n",
    "    y=x\n",
    "    \n",
    "    y[-1]=\"z\"\n",
    "\n",
    "    x\n",
    "> Answer: True\n",
    "6. The covariance is a measure of how two quantities vary together\n",
    "> Answer: True\n",
    "7. Principal Component Analysis (PDA) is a Dimension Reduction algorithm.\n",
    "> Answer: True"
   ]
  },
  {
   "cell_type": "markdown",
   "metadata": {},
   "source": [
    "### Short Answer Questions"
   ]
  },
  {
   "cell_type": "markdown",
   "metadata": {},
   "source": [
    "#### Question #1:\n",
    "The number of games played between each no-hitter in the modern era (1901-2015) of Major League Baseball is stored in the array nohitter_times. If you assume that no-hitters are described as a Poisson process, then the time between no-hitters is Exponentially distributed.  As you have seen, the Exponential distribution has a single parameter, which we will call tau, the average interval time. Compute the value of this parameter from the data. Then, use np.random.exponential() to \"repeat\" the history of Major League Baseball by drawing inter-no-hitter times from an exponential distribution with the \bτ you found and plot the histogram as an approximation to the PDF. Assume you can refer to NumPy, pandas, matlotlib.pyplot, and seaborn as np, pd, plt, and sns, respectively.\n",
    "\n",
    "Set the random seed to 42. Draw 100,000 samples from an Exponential distribution with the parameter you computed from the mean of the inter-no-hitter times. Plot the histogram with 50 bins,  set normed to True, and make is a step type histogram"
   ]
  },
  {
   "cell_type": "code",
   "execution_count": null,
   "metadata": {},
   "outputs": [],
   "source": [
    "# Seed random number generator\n",
    "____\n",
    "\n",
    "# Compute mean no-hitter time: tau\n",
    "tau = ____\n",
    "\n",
    "# Draw out of an exponential distribution with parameter tau: inter_nohitter_time\n",
    "inter_nohitter_time = ____(____, 100000)\n",
    "\n",
    "# Plot the PDF and label axes\n",
    "_ = ____(inter_nohitter_time,\n",
    "             ____, ____, ____)\n",
    "_ = plt.xlabel('Games between no-hitters')\n",
    "_ = plt.ylabel('PDF')\n",
    "\n",
    "# Show the plot\n",
    "plt.show()"
   ]
  },
  {
   "cell_type": "markdown",
   "metadata": {},
   "source": [
    "#### Question 1 Answer\n",
    "#Seed random number generator\n",
    " \n",
    "    np.random.seed(42)\n",
    "\n",
    "#Compute mean no-hitter time: tau\n",
    "\n",
    "    tau = np.mean(nohitter_times)\n",
    "\n",
    "#Draw out of an exponential distribution with parameter tau: inter_nohitter_time\n",
    "\n",
    "    inter_nohitter_time = np.random.exponential(tau, 100000)\n",
    "\n",
    "#Plot the PDF and label axes\n",
    "\n",
    "    _ = plt.hist(inter_nohitter_time,bins=50,normed=True,histtype='step')\n",
    "    _ = plt.xlabel('Games between no-hitters')\n",
    "    _ = plt.ylabel('PDF')\n",
    "\n",
    "#Show the plot\n",
    "plt.show()\n"
   ]
  },
  {
   "cell_type": "markdown",
   "metadata": {},
   "source": [
    "#### Question 2\n",
    "Follow the instructions and fill in the missing code.\n",
    "* Add the key 'italy' with the value 'rome' to europe\n",
    "* Print out 'italy' in europe\n",
    "* Add another key:value pair. 'poland' is the key, 'warsaw' is the corresponding value\n",
    "* Print out europe"
   ]
  },
  {
   "cell_type": "code",
   "execution_count": null,
   "metadata": {
    "collapsed": true
   },
   "outputs": [],
   "source": [
    "# Definition of dictionary\n",
    "europe = {'spain':'madrid', 'france':'paris', 'germany':'berlin', 'norway':'oslo' }\n",
    "\n",
    "# Add italy to europe\n",
    "\n",
    "\n",
    "# Print out italy in europe\n",
    "\n",
    "\n",
    "# Add poland to europe\n",
    "\n",
    "\n",
    "# Print europe\n"
   ]
  },
  {
   "cell_type": "markdown",
   "metadata": {},
   "source": [
    "#### Question 2 Answer:\n",
    "#Definition of dictionary\n",
    "\n",
    "    europe = {'spain':'madrid', 'france':'paris', 'germany':'berlin', 'norway':'oslo' }\n",
    "\n",
    "#Add italy to europe\n",
    "\n",
    "    europe['italy'] = 'rome'\n",
    "\n",
    "#Print out italy in europe\n",
    "\n",
    "    print('italy' in europe)\n",
    "\n",
    "#Add poland to europe\n",
    "\n",
    "    europe['poland'] = 'warsaw'\n",
    "\n",
    "#Print europe\n",
    "\n",
    "    print(europe)"
   ]
  },
  {
   "cell_type": "markdown",
   "metadata": {},
   "source": [
    "#### Question 3:\n",
    "Follow the instructions and fill in the missing code.\n",
    "* Create a 2D numpy array from baseball. Name it np_baseball.\n",
    "* Print out the type of np_baseball.\n",
    "* Print out the shape of np_baseball."
   ]
  },
  {
   "cell_type": "code",
   "execution_count": null,
   "metadata": {
    "collapsed": true
   },
   "outputs": [],
   "source": [
    "# Create baseball, a list of lists\n",
    "baseball = [[180, 78.4],\n",
    "            [215, 102.7],\n",
    "            [210, 98.5],\n",
    "            [188, 75.2]]\n",
    "\n",
    "# Import numpy\n",
    "import numpy as np\n",
    "\n",
    "# Create a 2D numpy array from baseball called np_baseball\n",
    "\n",
    "\n",
    "# Print out the type of np_baseball\n",
    "\n",
    "\n",
    "# Print out the shape of np_baseball\n"
   ]
  },
  {
   "cell_type": "markdown",
   "metadata": {},
   "source": [
    "#### Quetion 3 Answer:\n",
    "#Create baseball, a list of lists\n",
    "\n",
    "    baseball = [[180, 78.4],\n",
    "            [215, 102.7],\n",
    "            [210, 98.5],\n",
    "            [188, 75.2]]\n",
    "\n",
    "#Import numpy\n",
    "\n",
    "    import numpy as np\n",
    "\n",
    "#Create a 2D numpy array from baseball: np_baseball\n",
    "\n",
    "    np_baseball = np.array(baseball)\n",
    "\n",
    "#Print out the type of np_baseball\n",
    "\n",
    "    print(type(np_baseball))\n",
    "\n",
    "#Print out the shape of np_baseball\n",
    "\n",
    "    print(np_baseball.shape)"
   ]
  },
  {
   "cell_type": "markdown",
   "metadata": {},
   "source": [
    "#### Question 4: \n",
    "We will be working with the Congressional voting records dataset that shows how each member voted on a variety of issue areas (budget, immigration, education, etc). Each row is a Congress member and each column is a different issue area, (0 - against, 1- in favor). One columns reports which party the congress member belongs to.\n",
    "\n",
    "Create an instance of a k-NN classifier with 6 neighbors and then fit it to the data. The data has been pre-loaded into a DataFrame called df. Follow the instructions below.\n",
    "* Import KNeighborsClassifier from sklearn.neighbors\n",
    "* Instantiate a KNeighborsClassifier called knn with 6 neighbors"
   ]
  },
  {
   "cell_type": "code",
   "execution_count": null,
   "metadata": {},
   "outputs": [],
   "source": [
    "# Import KNeighborsClassifier from sklearn.neighbors\n",
    "from ____ import ____\n",
    "\n",
    "# Create arrays for the features and the response variable\n",
    "y = df['party'].values\n",
    "X = df.drop('party', axis=1).values\n",
    "\n",
    "# Create a k-NN classifier with 6 neighbors\n",
    "knn = ____\n",
    "\n",
    "# Fit the classifier to the data\n",
    "____\n"
   ]
  },
  {
   "cell_type": "markdown",
   "metadata": {},
   "source": [
    "#### Question 4 Answer\n",
    "#Import KNeighborsClassifier from sklearn.neighbors\n",
    "\n",
    "    from sklearn.neighbors import KNeighborsClassifier\n",
    "\n",
    "#Create arrays for the features and the response variable\n",
    "\n",
    "    y = df['party'].values\n",
    "    X = df.drop('party', axis=1).values\n",
    "\n",
    "#Create a k-NN classifier with 6 neighbors\n",
    "\n",
    "    knn = KNeighborsClassifier(n_neighbors=6)\n",
    "\n",
    "#Fit the classifier to the data\n",
    "\n",
    "    knn.fit(X,y)\n"
   ]
  },
  {
   "cell_type": "markdown",
   "metadata": {},
   "source": [
    "#### Question 5:\n",
    "We will use the Gapminder data. Specifically, your goal will be to use this data to predict the life expectancy in a given country based on features such as the country's GDP, fertility rate, and population. You will fit a linear regression and predict life expectancy using just one feature. You will use the 'fertility' feature of the Gapminder dataset. Since the goal is to predict life expectancy, the target variable here is 'life'. The array for the target variable has been pre-loaded as y and the array for 'fertility' has been pre-loaded as X_fertility.\n",
    "\n",
    "Follow the instructions below.\n",
    "* Import LinearRegression from sklearn.linear_model.\n",
    "* Create a LinearRegression regressor called reg.\n",
    "* Set up the prediction space to range from the minimum to the maximum of X_fertility. This has been done for you.\n",
    "* Fit the regressor to the data and compute its predictions\n",
    "* Compute and print the R2 score\n"
   ]
  },
  {
   "cell_type": "code",
   "execution_count": null,
   "metadata": {},
   "outputs": [],
   "source": [
    "# Import LinearRegression\n",
    "____\n",
    "\n",
    "# Create the regressor: reg\n",
    "reg = ____\n",
    "\n",
    "# Create the prediction space\n",
    "prediction_space = np.linspace(min(X_fertility), max(X_fertility)).reshape(-1,1)\n",
    "\n",
    "# Fit the model to the data\n",
    "____\n",
    "\n",
    "# Compute predictions over the prediction space: y_pred\n",
    "y_pred = ____\n",
    "\n",
    "# Print R^2 \n",
    "print(reg.score(____, ____))\n",
    "\n",
    "# Plot regression line\n",
    "plt.plot(prediction_space, y_pred, color='black', linewidth=3)\n",
    "plt.show()\n"
   ]
  },
  {
   "cell_type": "markdown",
   "metadata": {},
   "source": [
    "#### Question 5 Answer\n",
    "#Import LinearRegression\n",
    "\n",
    "    from sklearn.linear_model import LinearRegression\n",
    "\n",
    "#Create the regressor: reg\n",
    "\n",
    "    reg = LinearRegression()\n",
    "\n",
    "#Create the prediction space\n",
    "\n",
    "    prediction_space = np.linspace(min(X_fertility), max(X_fertility)).reshape(-1,1)\n",
    "\n",
    "#Fit the model to the data\n",
    "\n",
    "    reg.fit(X_fertility,y)\n",
    "\n",
    "#Compute predictions over the prediction space: y_pred\n",
    "\n",
    "    y_pred = reg.predict(prediction_space)\n",
    "\n",
    "#Print R^2 \n",
    "\n",
    "    print(reg.score(X_fertility, y))\n",
    "\n",
    "#Plot regression line\n",
    "\n",
    "    plt.plot(prediction_space, y_pred, color='black', linewidth=3)\n",
    "    plt.show()\n"
   ]
  },
  {
   "cell_type": "markdown",
   "metadata": {},
   "source": [
    "### Data Set Mini\n",
    "Using the boston housing dataset from sklearn perform some basic eda and run a linear regression.\n",
    "\n",
    "Fill in the missing code."
   ]
  },
  {
   "cell_type": "code",
   "execution_count": null,
   "metadata": {
    "collapsed": true
   },
   "outputs": [],
   "source": [
    "from sklearn.datasets import load_boston\n",
    "import pandas as pd\n",
    "import matplotlib.pyplot as plt\n",
    "import sklearn.metrics as met\n",
    "%matplotlib inline\n",
    "\n",
    "#Load data as bh using load_boston\n",
    "bh = load_boston()\n",
    "\n",
    "#Convert to a pandas dataframe\n",
    "bdata = pd.DataFrame(___.data, columns = ___.feature_names)\n",
    "\n",
    "# Show the head of bdata\n",
    "\n",
    "\n",
    "#Load the target variable, median home value (in the thousands)\n",
    "#Convert target to a Dataframe\n",
    "target = pd._______(bh.target)\n",
    "#Rename Column to MedV\n",
    "target.columns=['MedV']\n",
    "\n",
    "# Set up the feature & target arrays and set to numpy arrays.\n",
    "# X is the features. Y is the target. Convert them to numpy arrays using values attribute\n",
    "X = _____._____\n",
    "y = _____._____\n",
    "\n",
    "# Try to predict the housing value from a single feature, the number of rooms (RM).\n",
    "# This is the 6th column\n",
    "# Isolate the RM column and set it equal to a new array, X_rooms.\n",
    "X_rooms =X[____]\n",
    "\n",
    "# Check to see if both arrays are numpy arrays using type function\n",
    "\n",
    "#Reshape\n",
    "y= y.reshape(-1,1)\n",
    "X_rooms = X_rooms.reshape(-1,1)\n",
    "\n",
    "#Plot a scatter plot of Number of Rooms vs Median Housing Value (thousands). Don't forget to label axis & title.\n",
    "fig= plt.scatter(____,____)\n",
    "fig= plt.ylabel(______)\n",
    "fig= plt.xlabel(______)\n",
    "fig= plt.title(_______)\n",
    "\n",
    "#Apply an alpha of 0.5 to the plot\n",
    "fig = plt.scatter(______,_____,______)\n",
    "\n",
    "#import numpy as np and linear_model from sklearn\n",
    "\n",
    "\n",
    "#Create an instance of LinearRegression called reg\n",
    "reg = \n",
    "\n",
    "reg.fit(_____,_____)\n",
    "\n",
    "#Create the prediction space. This will be the x axis values for the regression line\n",
    "prediction_space = np.linspace(min(_____),max(______)).reshape(-1,1)\n",
    "\n",
    "# Draw previous scatter plot with points in blue. Set alpha of 0.4.\n",
    "fig=plt.scatter(_____,____,_______,_______)\n",
    "#Draw the regression line on the scatter plot in red with width 3.\n",
    "fig = plt.plot(______,reg._____(______),_______,linewidth=___)\n",
    "fig= plt.ylabel(_______)\n",
    "fig= plt.xlabel(_______)\n",
    "fig= plt.title(_____________)\n",
    "\n",
    "# Calculate the Mean Square Error to determine the quality of the model\n",
    "mse = met.mean_squared_error(________,reg.______(_______))\n",
    "mse"
   ]
  },
  {
   "cell_type": "markdown",
   "metadata": {},
   "source": [
    "### Data Set Mini Answer"
   ]
  },
  {
   "cell_type": "code",
   "execution_count": null,
   "metadata": {},
   "outputs": [],
   "source": [
    "from sklearn.datasets import load_boston\n",
    "import pandas as pd\n",
    "import matplotlib.pyplot as plt\n",
    "import sklearn.metrics as met\n",
    "%matplotlib inline\n",
    "\n",
    "#Load data as bh using load_boston\n",
    "bh = load_boston()\n",
    "\n",
    "#Convert to a pandas dataframe\n",
    "bdata = pd.DataFrame(bh.data, columns = bh.feature_names)\n",
    "\n",
    "# Show the head of bdata\n",
    "bdata.head()\n",
    "\n",
    "#Load the target variable, median home value (in the thousands)\n",
    "target = pd.DataFrame(bh.target)\n",
    "target.columns=['MedV']\n",
    "\n",
    "# Set up the feature & target arrays and set to numpy arrays.\n",
    "# X is the features. Y is the target.\n",
    "X = bdata.values\n",
    "y = target.values\n",
    "\n",
    "# Try to predict the housing value from a single feature, the number of rooms (RM).\n",
    "# This is the 6th column\n",
    "# Isolate the RM column and set it equal to a new array, X_rooms.\n",
    "X_rooms = X[:,5]\n",
    "\n",
    "# Check to see if both arrays are numpy arrays\n",
    "type(X_rooms)\n",
    "type(y)\n",
    "\n",
    "#Reshape\n",
    "y= y.reshape(-1,1)\n",
    "X_rooms = X_rooms.reshape(-1,1)\n",
    "\n",
    "#Plot a scatter plot of # of Rooms vs Median Housing Value. Don't forget to label axis & title.\n",
    "fig= plt.scatter(X_rooms,y,color='blue')\n",
    "fig= plt.ylabel('Median Housing Value (thousands)')\n",
    "fig= plt.xlabel('Number of Rooms')\n",
    "fig= plt.title('Number of Rooms vs. Median Housing Value')\n",
    "\n",
    "#Apply an alpha of 0.5 to the plot\n",
    "fig = plt.scatter(X_rooms,y,alpha=.5)"
   ]
  },
  {
   "cell_type": "code",
   "execution_count": null,
   "metadata": {},
   "outputs": [],
   "source": [
    "\n",
    "#import numpy as np and linear_model from sklearn\n",
    "import numpy as np\n",
    "from sklearn import linear_model\n",
    "\n",
    "#Create an instance of LinearRegression called reg\n",
    "reg = linear_model.LinearRegression()\n",
    "\n",
    "reg.fit(X_rooms,y)\n",
    "\n",
    "#Create the prediction space. This will be the x axis values for the regression line\n",
    "prediction_space = np.linspace(min(X_rooms),max(X_rooms)).reshape(-1,1)\n",
    "\n",
    "#Draw the regression line on the scatter plot. Set alpha of 0.4\n",
    "fig=plt.scatter(X_rooms,y,color='blue',alpha=0.4)\n",
    "fig = plt.plot(prediction_space,reg.predict(prediction_space),color='red',linewidth=3)\n",
    "fig= plt.ylabel('Median Housing Value (thousands)')\n",
    "fig= plt.xlabel('Number of Rooms')\n",
    "fig= plt.title('Number of Rooms vs. Median Housing Value')\n",
    "\n",
    "# Calculate the Mean Square Error to determine the quality of the model\n",
    "mse = met.mean_squared_error(prediction_space,reg.predict(prediction_space))\n",
    "mse"
   ]
  }
 ],
 "metadata": {
  "kernelspec": {
   "display_name": "Python 3",
   "language": "python",
   "name": "python3"
  },
  "language_info": {
   "codemirror_mode": {
    "name": "ipython",
    "version": 3
   },
   "file_extension": ".py",
   "mimetype": "text/x-python",
   "name": "python",
   "nbconvert_exporter": "python",
   "pygments_lexer": "ipython3",
   "version": "3.6.3"
  }
 },
 "nbformat": 4,
 "nbformat_minor": 2
}
